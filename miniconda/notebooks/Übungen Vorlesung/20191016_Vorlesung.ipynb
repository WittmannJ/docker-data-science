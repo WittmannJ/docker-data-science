{
 "cells": [
  {
   "cell_type": "markdown",
   "metadata": {},
   "source": [
    "# Vorlesung am 16. Oktober 2019\n",
    "\n",
    "***Versuch einer Vorlesungsmitschrift mithilfe von jupyter notebook and markdown***\n",
    "\n"
   ]
  },
  {
   "cell_type": "markdown",
   "metadata": {},
   "source": [
    "## CRISP-DM\n",
    "\n",
    "\n",
    " Phases, Taks, Outputs (siehe Abbildung Seite 17 -> Prüfungsstoff von GDW)\n",
    "\n",
    "\n",
    " --> CRISP-DM ist ein Vorgehensmodell zur Erstellung eines Models und ersetzt die Abbildung 1-6 \"Iteration from formulation to performance\" von Bowles"
   ]
  }
 ],
 "metadata": {
  "kernelspec": {
   "display_name": "Python 3",
   "language": "python",
   "name": "python3"
  },
  "language_info": {
   "codemirror_mode": {
    "name": "ipython",
    "version": 3
   },
   "file_extension": ".py",
   "mimetype": "text/x-python",
   "name": "python",
   "nbconvert_exporter": "python",
   "pygments_lexer": "ipython3",
   "version": "3.7.4"
  }
 },
 "nbformat": 4,
 "nbformat_minor": 2
}
