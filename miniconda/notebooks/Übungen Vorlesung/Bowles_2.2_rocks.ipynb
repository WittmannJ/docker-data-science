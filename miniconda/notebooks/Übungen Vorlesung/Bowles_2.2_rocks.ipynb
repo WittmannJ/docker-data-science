{
 "cells": [
  {
   "cell_type": "markdown",
   "metadata": {},
   "source": [
    "Bowles 2.2: <br/>Classification Problems: <br/>Detecting Unexploded Mines Using Sonar\n",
    "========="
   ]
  },
  {
   "cell_type": "code",
   "execution_count": null,
   "metadata": {},
   "outputs": [],
   "source": [
    "import pandas as pd\n",
    "import numpy as np\n",
    "import os\n",
    "fileDir = os.path.dirname(os.path.realpath('__file__'))\n",
    "print(\"Loakles Verzeichnis: \", fileDir)"
   ]
  },
  {
   "cell_type": "markdown",
   "metadata": {},
   "source": [
    "## Listing 2-1: Sizing Up a New Data Setâ€”rockVmineSummaries.py\n",
    "\n"
   ]
  },
  {
   "cell_type": "markdown",
   "metadata": {},
   "source": [
    "CSV einlesen: Anders als Bowles machen wir das mit Pandas.\n",
    "\n",
    "Doku: https://pandas.pydata.org/pandas-docs/stable/reference/api/pandas.read_csv.html"
   ]
  },
  {
   "cell_type": "code",
   "execution_count": null,
   "metadata": {},
   "outputs": [],
   "source": [
    "# Bowles Listing 2-1: Sizing Up a New Data Setâ€”rockVmineSummaries.py\n",
    "# dataSource = \"https://archive.ics.uci.edu/ml/machine-learning-databases/undocumented/connectionist-bench/sonar/sonar.all-data\"\n",
    "source_csv_file = \"../data/sonar.all-data.csv\"\n",
    "source_csv_file = os.path.join(fileDir, source_csv_file)\n",
    "source_df = pd.read_csv(source_csv_file, header=None)\n",
    "print(\"Eingelesen aus\\n%s:\\n%i Zeilen, %i Spalten\" % (source_csv_file,source_df.shape[0], source_df.shape[1] ))"
   ]
  },
  {
   "cell_type": "code",
   "execution_count": null,
   "metadata": {},
   "outputs": [],
   "source": [
    "# number of rows, colums\n",
    "source_df.shape"
   ]
  },
  {
   "cell_type": "code",
   "execution_count": null,
   "metadata": {},
   "outputs": [],
   "source": [
    "source_df"
   ]
  },
  {
   "cell_type": "markdown",
   "metadata": {},
   "source": [
    "## Listing 2-2: Determining the Nature of Attributesâ€”rockVmineContents.py"
   ]
  },
  {
   "cell_type": "code",
   "execution_count": null,
   "metadata": {},
   "outputs": [],
   "source": [
    "# datatypes of cols\n",
    "source_df.info(verbose=True)"
   ]
  },
  {
   "cell_type": "markdown",
   "metadata": {},
   "source": [
    "## Listing 2-3: Summary Statistics for Numeric and Categorical Attributesâ€”rVMSummaryStats.py"
   ]
  },
  {
   "cell_type": "code",
   "execution_count": null,
   "metadata": {},
   "outputs": [],
   "source": [
    "(nrow, ncol) = source_df.shape\n",
    "print(source_df.shape)\n",
    "print(\"rows: %i, cols: %i\" % (nrow, ncol))\n",
    "print(\"total number of measurements:\", source_df.size)"
   ]
  },
  {
   "cell_type": "markdown",
   "metadata": {},
   "source": [
    "Bowles berechnet die gÃ¤ngigen statistischen KenngrÃ¶ÃŸen manuell, z.B.:\n",
    "\n",
    "    colMean = np.mean(colArray); colsd = np.std(colArray)\n",
    "    \n",
    "Pandas stellt dazu die Methode ``describe()`` bereit - siehe unten Listing 2.4.\n"
   ]
  },
  {
   "cell_type": "markdown",
   "metadata": {},
   "source": [
    "Unique Werte in der 61ten Spalte (weil der Index mit 0 beginnt also Spalte 60) mit Pandas.\n",
    "\n",
    "Doku: https://pandas.pydata.org/pandas-docs/stable/reference/api/pandas.unique.html"
   ]
  },
  {
   "cell_type": "code",
   "execution_count": null,
   "metadata": {},
   "outputs": [],
   "source": [
    "#hide XXX\n",
    "source_df[60].unique()\n"
   ]
  },
  {
   "cell_type": "code",
   "execution_count": null,
   "metadata": {},
   "outputs": [],
   "source": []
  },
  {
   "cell_type": "markdown",
   "metadata": {},
   "source": [
    "Oder a la Bowles nativ mit Python als Menge oder Liste:"
   ]
  },
  {
   "cell_type": "code",
   "execution_count": null,
   "metadata": {},
   "outputs": [],
   "source": [
    "colData = source_df[60]\n",
    "unique = set(colData)\n",
    "print(\"unique Werte als Menge: \", unique)"
   ]
  },
  {
   "cell_type": "code",
   "execution_count": null,
   "metadata": {},
   "outputs": [],
   "source": [
    "type(colData)"
   ]
  },
  {
   "cell_type": "code",
   "execution_count": null,
   "metadata": {},
   "outputs": [],
   "source": [
    "#count up the number of elements having each value\n",
    "catDict = dict(zip(list(unique),range(len(unique))))\n",
    "catCount = [0]*2\n",
    "for elt in colData:\n",
    "   catCount[catDict[elt]] += 1\n",
    "print(\"unique Werte als Liste: \", list(unique))\n",
    "print(\"catCount dazu:          \", catCount )\n"
   ]
  },
  {
   "cell_type": "markdown",
   "metadata": {},
   "source": [
    "## Listing 2-5: Using Python Pandas to Read and Summarize Dataâ€”pandasReadSummarize.py\n",
    "\n",
    "https://pandas.pydata.org/pandas-docs/stable/reference/api/pandas.DataFrame.describe.html#pandas.DataFrame.describe"
   ]
  },
  {
   "cell_type": "code",
   "execution_count": null,
   "metadata": {},
   "outputs": [],
   "source": [
    "#hide XXX\n",
    "#print XXX and tail of data frame\n",
    "display(source_df.describe())\n",
    "display(source_df.tail(2))\n"
   ]
  },
  {
   "cell_type": "code",
   "execution_count": null,
   "metadata": {
    "scrolled": true
   },
   "outputs": [],
   "source": [
    "#hide XXX\n",
    "# Deskriptive Statistik 08/15    \n",
    "source_df.info() # erfasst standardmÃ¤ÃŸig nur die numerischen Attribute"
   ]
  },
  {
   "cell_type": "markdown",
   "metadata": {},
   "source": [
    "Auch Zusammenfassungen von nicht-numerischen Attributen sind mÃ¶glich:"
   ]
  },
  {
   "cell_type": "code",
   "execution_count": null,
   "metadata": {
    "scrolled": true
   },
   "outputs": [],
   "source": [
    "#hide XXX\n",
    "source_df.describe(include=\"all\")"
   ]
  },
  {
   "cell_type": "code",
   "execution_count": null,
   "metadata": {},
   "outputs": [],
   "source": [
    "conda list"
   ]
  },
  {
   "cell_type": "code",
   "execution_count": null,
   "metadata": {},
   "outputs": [],
   "source": [
    "4+4"
   ]
  },
  {
   "cell_type": "code",
   "execution_count": null,
   "metadata": {},
   "outputs": [],
   "source": []
  }
 ],
 "metadata": {
  "kernelspec": {
   "display_name": "Python 3",
   "language": "python",
   "name": "python3"
  },
  "language_info": {
   "codemirror_mode": {
    "name": "ipython",
    "version": 3
   },
   "file_extension": ".py",
   "mimetype": "text/x-python",
   "name": "python",
   "nbconvert_exporter": "python",
   "pygments_lexer": "ipython3",
   "version": "3.7.4"
  }
 },
 "nbformat": 4,
 "nbformat_minor": 2
}
