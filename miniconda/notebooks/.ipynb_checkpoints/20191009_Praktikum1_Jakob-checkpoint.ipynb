{
 "cells": [
  {
   "cell_type": "markdown",
   "metadata": {},
   "source": [
    "dsci_intro_1\n",
    "====\n",
    "\n",
    "Quelle (ggf. in einem anderen Fenster Ã¶ffnen): https://learnxinyminutes.com/docs/python3/ ;\n",
    "\n",
    "Vorgehen: Quellcode download von https://learnxinyminutes.com/docs/files/learnpython3.py und hier in Jupyter in einem neuen Tab/Fenster Ã¶ffnen.\n"
   ]
  },
  {
   "cell_type": "code",
   "execution_count": 5,
   "metadata": {},
   "outputs": [
    {
     "data": {
      "text/plain": [
       "-2"
      ]
     },
     "execution_count": 5,
     "metadata": {},
     "output_type": "execute_result"
    }
   ],
   "source": [
    "# Integer division rounds down for both positive and negative numbers.\n",
    "-5 // 3      # => -2"
   ]
  },
  {
   "cell_type": "code",
   "execution_count": 7,
   "metadata": {},
   "outputs": [
    {
     "ename": "SyntaxError",
     "evalue": "invalid syntax (<ipython-input-7-ae6bdfafdc63>, line 9)",
     "output_type": "error",
     "traceback": [
      "\u001b[0;36m  File \u001b[0;32m\"<ipython-input-7-ae6bdfafdc63>\"\u001b[0;36m, line \u001b[0;32m9\u001b[0m\n\u001b[0;31m    print(b XXX a)            # => False, a and b do not refer to the same object\u001b[0m\n\u001b[0m              ^\u001b[0m\n\u001b[0;31mSyntaxError\u001b[0m\u001b[0;31m:\u001b[0m invalid syntax\n"
     ]
    }
   ],
   "source": [
    "# pointer vs. values\n",
    "# (XXX vs. ==)  checks if two variables refer to the same object, but == checks\n",
    "# if the objects pointed to have the same values.\n",
    "a = [1, 2, 3, 4]  # Point a at [1, 2, 3, 4]\n",
    "b = a             # Point b at what a points to\n",
    "print(b == a)            # => True, a and b refer to the same object\n",
    "print(b == a)            # => True, a's and b's objects are equal\n",
    "b = [1, 2, 3, 4]  # Point b at [1, 2, 3, 4]\n",
    "print(b XXX a)            # => False, a and b do not refer to the same object\n",
    "print(b == a)            # => True, a's and b's objects are equal"
   ]
  },
  {
   "cell_type": "code",
   "execution_count": null,
   "metadata": {},
   "outputs": [],
   "source": []
  }
 ],
 "metadata": {
  "jupytext": {
   "formats": "ipynb,md"
  },
  "kernelspec": {
   "display_name": "Python 3",
   "language": "python",
   "name": "python3"
  },
  "language_info": {
   "codemirror_mode": {
    "name": "ipython",
    "version": 3
   },
   "file_extension": ".py",
   "mimetype": "text/x-python",
   "name": "python",
   "nbconvert_exporter": "python",
   "pygments_lexer": "ipython3",
   "version": "3.7.4"
  }
 },
 "nbformat": 4,
 "nbformat_minor": 2
}
